{
 "cells": [
  {
   "cell_type": "markdown",
   "id": "eb925eb9",
   "metadata": {},
   "source": [
    "# Analysis of NFL Team Performance on Injury"
   ]
  },
  {
   "cell_type": "code",
   "execution_count": 64,
   "id": "e12ed5bf",
   "metadata": {},
   "outputs": [],
   "source": [
    "# Import all necessary modules\n",
    "\n",
    "import pandas as pd\n",
    "import numpy as np\n",
    "import mysql.connector\n",
    "import matplotlib.pyplot as plt\n",
    "from scipy.stats import ttest_ind\n",
    "from datetime import datetime"
   ]
  },
  {
   "cell_type": "code",
   "execution_count": 66,
   "id": "9a9a7cf9",
   "metadata": {},
   "outputs": [],
   "source": [
    "# Initialize DB connection\n",
    "\n",
    "mydb = mysql.connector.connect(host=\"imc.kean.edu\", user=\"fisheral\", password=\"1117936\")\n",
    "cursor = mydb.cursor(dictionary = True, buffered = True)\n",
    "\n",
    "query = \"use 2023S_patpanka;\"\n",
    "cursor.execute(query)"
   ]
  },
  {
   "cell_type": "code",
   "execution_count": 8,
   "id": "428960c3",
   "metadata": {},
   "outputs": [
    {
     "name": "stdout",
     "output_type": "stream",
     "text": [
      "['46119-3-16', '44421-12-41', '46014-10-22', '43672-8-9', '41145-2-60', '46098-17-27', '41943-1-12', '36607-16-19', '46430-8-6', '42637-3-6', '44900-7-10', '47334-8-1', '42406-6-13', '44542-13-20', '35611-7-42', '43540-7-2', '38192-8-8', '42456-20-76', '43826-7-12', '39873-4-32', '47382-3-34', '36557-1-70', '41209-9-9', '41113-15-63', '35570-15-35', '45962-8-40', '44482-20-21', '42348-23-53', '38364-5-23', '42600-3-1', '44489-11-32', '45187-9-4', '38876-29-14', '47235-7-55', '40474-1-8', '43505-2-49', '46394-18-3', '43518-6-25', '42398-15-33', '46316-5-4', '47307-10-18', '46331-4-44', '43540-3-14', '42418-19-15', '44806-7-61', '38228-1-4', '45966-4-27', '33337-8-15', '45983-18-21', '36559-12-65', '44449-28-35', '42448-14-3', '34347-5-9', '39678-2-1', '47813-8-19', '39956-2-14', '44440-6-18', '47220-4-16', '33474-19-7', '41094-1-55', '45950-8-18', '43532-5-69', '47287-4-16', '31070-3-7', '46074-7-26', '44492-3-23', '39656-2-38', '39850-9-2', '44511-5-41', '44449-6-13', '36621-13-58', '47307-10-18', '46587-2-13', '46646-3-30', '44860-5-52', '46038-30-58', '44434-10-31']\n"
     ]
    }
   ],
   "source": [
    "# Get all playkeys for plays where injuries occurred\n",
    "\n",
    "injury_plays = []\n",
    "query = \"SELECT PlayKey from InjuryRecord where PlayKey order by rand()\"\n",
    "cursor.execute(query)\n",
    "row = cursor.fetchone()\n",
    "while row is not None:\n",
    "    injury_plays.append(row['PlayKey'])\n",
    "    row = cursor.fetchone()\n",
    "\n",
    "print(injury_plays)"
   ]
  },
  {
   "cell_type": "code",
   "execution_count": 78,
   "id": "402fcd9a",
   "metadata": {},
   "outputs": [
    {
     "name": "stdout",
     "output_type": "stream",
     "text": [
      "['39664-19-59', '43523-11-37', '43532-20-46', '42637-2-18', '47282-4-10', '39748-12-57', '36757-1-50', '38213-21-27', '47294-14-18', '41692-3-35', '36607-8-24', '38253-9-23', '42549-24-60', '46038-27-45', '44433-12-65', '44527-10-34', '40335-18-12', '39771-29-11', '39836-25-51', '40405-26-2', '36621-22-45', '39836-12-40', '44444-3-25', '44629-18-2', '38364-3-11', '45966-15-3', '35570-24-7', '42352-8-26', '39650-2-45', '27363-20-67', '42359-24-63', '40345-7-20', '46066-11-45', '42413-5-7', '36621-25-46', '34243-17-3', '42359-1-1', '38876-15-14', '36672-21-19', '42359-24-35', '41152-18-33', '43656-15-54', '44485-23-49', '44491-6-13', '45950-16-45', '43656-7-35', '44423-8-13', '27363-18-5', '39680-23-60', '44463-23-11', '45077-23-9', '30068-17-3', '40335-27-14', '39960-13-30', '36607-8-19', '41558-23-36', '39794-6-24', '42780-20-4', '43656-32-10', '44463-29-53', '42359-17-17', '42588-18-20', '39956-16-41', '45962-22-14', '45061-18-28', '47308-7-17', '39771-12-24', '42456-15-13', '44440-28-31', '43523-21-13', '40286-4-12', '38213-23-14', '39583-28-6', '44480-7-52', '26624-22-14', '45950-21-9']\n"
     ]
    }
   ],
   "source": [
    "# Get as many playkeys for sample plays where injuries did not occur as there are samples for injury plays\n",
    "\n",
    "non_injury_plays = []\n",
    "query = \"SELECT PlayKey from Non_Injured_Samples\"\n",
    "cursor.execute(query)\n",
    "row = cursor.fetchone()\n",
    "while row is not None:\n",
    "    non_injury_plays.append(row['PlayKey'])\n",
    "    row = cursor.fetchone()\n",
    "\n",
    "print(non_injury_plays)"
   ]
  },
  {
   "cell_type": "markdown",
   "id": "ca2035d0",
   "metadata": {},
   "source": [
    "## Max Speed\n",
    "##### Null hypothesis: There is no correlation between max speed of player and injury occurrence\n",
    "##### Alternative hypothesis: There is a positive correlation between having a higher max speed and the probability of injury occurrence"
   ]
  },
  {
   "cell_type": "code",
   "execution_count": 10,
   "id": "d08fb034",
   "metadata": {},
   "outputs": [
    {
     "name": "stdout",
     "output_type": "stream",
     "text": [
      "[9.35, 7.57, 9.97, 2.38, 2.13, 7.59, 3.74, 6.38, 7.26, 8.4, 8.68, 10.11, 2.38, 7.37, 3.21, 4.25, 7.28, 3.22, 3.73, 8.98, 3.17, 5.75, 5.15, 2.38, 3.38, 4.99, 2.96, 5.99, 7.75, 9.55, 6.96, 5.81, 7.85, 8.17, 9.05, 3.12, 9.56, 5.31, 10.43, 2.33, 8.33, 5.84, 2.73, 4.72, 2.39, 9.2, 6.82, 6.35, 4.25, 5.81, 7.34, 6.95, 9.48, 1.17, 9.12, 6.7, 6.59, 6.93, 7.46, 6.25, 5.03, 4.73, 5.45, 7.26, 7.26, 4.34, 6.38, 8.27, 6.39, 5.83, 3.15, 8.33, 9.42, 7.23, 2.9, 8.04, 5.62]\n"
     ]
    }
   ],
   "source": [
    "# Get max_speed of plays where injury occurred\n",
    "\n",
    "injury_max_speeds = []\n",
    "for play in injury_plays:\n",
    "    query = \"SELECT injury_play_max_speed as max_speed from InjuredPlayerData2 where PlayKey = '\" + play + \"'\"\n",
    "    cursor.execute(query)\n",
    "    injury_max_speeds.append(cursor.fetchone()['max_speed'])\n",
    "    \n",
    "print(injury_max_speeds)"
   ]
  },
  {
   "cell_type": "code",
   "execution_count": 79,
   "id": "69b21c36",
   "metadata": {},
   "outputs": [
    {
     "name": "stdout",
     "output_type": "stream",
     "text": [
      "[1.67, 4.04, 5.7, 8.53, 7.29, 4.6, 1.54, 5.92, 7.46, 4.49, 4.53, 2.69, 3.81, 4.66, 1.97, 7.61, 9.25, 3.75, 2.32, 8.18, 2.4, 4.52, 3.21, 2.56, 9.58, 6.45, 2.55, 3.16, 2.16, 4.03, 4.13, 8.36, 7.68, 1.9, 2.97, 6.77, 8.15, 8.01, 4.13, 8.48, 5.68, 4.47, 5.24, 4.84, 5.67, 3.9, 3.18, 3.43, 5.23, 7.55, 2.08, 5.38, 5.29, 5.1, 4.03, 5.08, 2.82, 3.15, 5.14, 8.31, 5.35, 4.45, 4.32, 3.81, 7.15, 5.07, 8.74, 8.79, 3.02, 2.81, 6.36, 7.3, 8.4, 3.13, 4.42, 5.37]\n"
     ]
    }
   ],
   "source": [
    "# Get max_speed of plays where injury did not occur\n",
    "\n",
    "non_injury_max_speeds = []\n",
    "for play in non_injury_plays:\n",
    "    query = \"SELECT max(s) as max_speed from Non_Injured_Player_Track_Data where PlayKey = '\" + play + \"'\"\n",
    "    cursor.execute(query)\n",
    "    non_injury_max_speeds.append(cursor.fetchone()['max_speed'])\n",
    "    \n",
    "print(non_injury_max_speeds)"
   ]
  },
  {
   "cell_type": "code",
   "execution_count": 80,
   "id": "abcf4167",
   "metadata": {},
   "outputs": [
    {
     "name": "stdout",
     "output_type": "stream",
     "text": [
      "Mean max_speed of plays with injuries: 6.151948051948053\n",
      "Mean max_speed of plays without injuries: 5.069342105263158\n"
     ]
    }
   ],
   "source": [
    "injury_max_speeds = np.array(injury_max_speeds)\n",
    "non_injury_max_speeds = np.array(non_injury_max_speeds)\n",
    "\n",
    "mean_injury_max_speed = np.mean(injury_max_speeds)\n",
    "mean_non_injury_max_speed = np.mean(non_injury_max_speeds)\n",
    "\n",
    "print(\"Mean max_speed of plays with injuries:\", mean_injury_max_speed)\n",
    "print(\"Mean max_speed of plays without injuries:\", mean_non_injury_max_speed)"
   ]
  },
  {
   "cell_type": "code",
   "execution_count": 81,
   "id": "a047ae87",
   "metadata": {},
   "outputs": [],
   "source": [
    "# Calculate variance function\n",
    "def variance(data):\n",
    "    # Number of observations\n",
    "    n = len(data)\n",
    "    # Mean of the data\n",
    "    mean = sum(data) / n\n",
    "    # Square deviations\n",
    "    deviations = [(x - mean) ** 2 for x in data]\n",
    "    # Variance\n",
    "    variance = sum(deviations) / n\n",
    "    return variance\n"
   ]
  },
  {
   "cell_type": "code",
   "execution_count": 82,
   "id": "066aa8c2",
   "metadata": {},
   "outputs": [
    {
     "name": "stdout",
     "output_type": "stream",
     "text": [
      "Injury Max Speeds Variance: 5.499524776522179\n",
      "Non-Injury Max Speeds Variance: 4.540069304016621\n"
     ]
    }
   ],
   "source": [
    "# Calculate variance of both datasets\n",
    "\n",
    "print(\"Injury Max Speeds Variance:\", variance(injury_max_speeds))\n",
    "print(\"Non-Injury Max Speeds Variance:\", variance(non_injury_max_speeds))"
   ]
  },
  {
   "cell_type": "code",
   "execution_count": 83,
   "id": "fd77e80a",
   "metadata": {},
   "outputs": [
    {
     "name": "stdout",
     "output_type": "stream",
     "text": [
      "Correlation coefficient: 0.23476943462032634\n",
      "p-value: 0.00348840322974134\n"
     ]
    }
   ],
   "source": [
    "import scipy.stats as stats\n",
    "\n",
    "# Create a binary variable indicating if the play caused an injury or not\n",
    "injury = [1] * len(injury_max_speeds) + [0] * len(non_injury_max_speeds)\n",
    "\n",
    "# Perform the Pearson correlation test\n",
    "correlation, p_value = stats.pearsonr(injury, np.concatenate((injury_max_speeds, non_injury_max_speeds)))\n",
    "\n",
    "print(\"Correlation coefficient:\", correlation)\n",
    "print(\"p-value:\", p_value)\n"
   ]
  },
  {
   "cell_type": "markdown",
   "id": "2f9a12fd",
   "metadata": {},
   "source": [
    "### Conclusion:\n",
    "#### Because the p-value is below the significance value of 0.05, we can accept the alternative hypothesis that there is a correlation between a player's max speed during a play and the probability of an injury occuring."
   ]
  },
  {
   "cell_type": "code",
   "execution_count": 84,
   "id": "61e2cb24",
   "metadata": {},
   "outputs": [
    {
     "data": {
      "image/png": "[encoded data removed]",
      "text/plain": [
       "<Figure size 640x480 with 1 Axes>"
      ]
     },
     "metadata": {},
     "output_type": "display_data"
    }
   ],
   "source": [
    "# Plot max speed comparison\n",
    "\n",
    "x = injury_max_speeds\n",
    "y = non_injury_max_speeds\n",
    "\n",
    "plt.hist(x, alpha=0.5, bins=range(0, 13), label='Injury-causing plays')\n",
    "plt.hist(y, alpha=0.5, bins=range(0, 13), label='Non-injury-causing plays')\n",
    "plt.legend(loc='upper right')\n",
    "plt.xlabel(\"Player's max speed during a play (yards per second)\")\n",
    "plt.ylabel(\"Frequency\")\n",
    "plt.title(\"Comparison of max speed of player during injury and non-injury causing plays\")\n",
    "plt.show()"
   ]
  },
  {
   "cell_type": "markdown",
   "id": "fba6f3bc",
   "metadata": {},
   "source": [
    "## Field types\n",
    "##### Null hypothesis: There is no correlation between field type and the probability of an injury occuring.\n",
    "##### Alternative hypothesis: There is a correlation between field type and the probability of an injury occuring."
   ]
  },
  {
   "cell_type": "code",
   "execution_count": 69,
   "id": "de9a9ce7",
   "metadata": {},
   "outputs": [
    {
     "name": "stdout",
     "output_type": "stream",
     "text": [
      "[0, 0, 1, 1, 0, 1, 0, 1, 0, 0, 0, 1, 1, 0, 1, 0, 0, 1, 1, 1, 1, 1, 1, 0, 0, 1, 1, 1, 1, 0, 1, 0, 0, 1, 1, 0, 1, 1, 1, 0, 1, 1, 0, 1, 1, 1, 1, 0, 0, 0, 1, 1, 0, 1, 1, 0, 1, 1, 0, 0, 0, 1, 0, 0, 0, 0, 1, 1, 1, 0, 0, 1, 1, 0, 0, 0, 0]\n",
      "[1, 1, 1, 1, 0, 0, 0, 1, 0, 0, 0, 0, 1, 1, 1, 0, 0, 1, 1, 0, 1, 0, 0, 0, 1, 1, 0, 0, 0, 1, 0, 1, 0, 1, 0, 0, 0, 0, 0, 0, 1, 0, 0, 0, 0, 0, 1, 1, 0, 1, 0, 0, 0, 0, 1, 0, 0, 1, 0, 0, 0, 1, 0, 1, 0, 0, 0, 1, 1, 0, 1, 0, 1, 0, 1, 0, 1]\n"
     ]
    }
   ],
   "source": [
    "# Data gathering\n",
    "\n",
    "injury_field_types = []\n",
    "# Query for injured plays\n",
    "for play in injury_plays:\n",
    "    query = \"select FieldType from PlayList where PlayKey='\" + str(play) + \"'\"\n",
    "    cursor.execute(query)\n",
    "    field_type = cursor.fetchone()['FieldType']\n",
    "    if field_type == \"Natural\":\n",
    "        injury_field_types.append(0)\n",
    "    elif field_type == \"Synthetic\":\n",
    "        injury_field_types.append(1)\n",
    "\n",
    "\n",
    "print(injury_field_types)\n",
    "\n",
    "non_injury_field_types = []\n",
    "for play in non_injury_plays:\n",
    "    query = \"select FieldType from PlayList where PlayKey='\" + str(play) + \"'\"\n",
    "    cursor.execute(query)\n",
    "    field_type = cursor.fetchone()['FieldType']\n",
    "    if field_type == \"Natural\":\n",
    "        non_injury_field_types.append(0)\n",
    "    elif field_type == \"Synthetic\":\n",
    "        non_injury_field_types.append(1)\n",
    "\n",
    "print(non_injury_field_types)"
   ]
  },
  {
   "cell_type": "code",
   "execution_count": 71,
   "id": "f922b034",
   "metadata": {},
   "outputs": [
    {
     "name": "stdout",
     "output_type": "stream",
     "text": [
      "Correlation coefficient: 0.14329283152908454\n",
      "P-value: 0.07624690387511823\n"
     ]
    }
   ],
   "source": [
    "# Create a binary variable indicating if the play caused an injury or not\n",
    "injury = [1] * len(injury_field_types) + [0] * len(non_injury_field_types)\n",
    "\n",
    "# Perform the Pearson correlation test\n",
    "correlation, p_value = stats.pearsonr(injury, np.concatenate((injury_field_types, non_injury_field_types)))\n",
    "\n",
    "print(\"Correlation coefficient:\", correlation)\n",
    "print(\"P-value:\", p_value)"
   ]
  },
  {
   "cell_type": "markdown",
   "id": "26dc9410",
   "metadata": {},
   "source": [
    "### Conclusion:\n",
    "#### Because the p-value is above the significance value of 0.05, we cannot reject the null hypothesis that there is no correlation between the football field being natural or synthetic and the probability of injury occurrence."
   ]
  },
  {
   "cell_type": "markdown",
   "id": "6ec2dfa3",
   "metadata": {},
   "source": [
    "## Temperature\n",
    "##### Null hypothesis: There is no correlation between temperature and the probability of an injury occuring.\n",
    "##### Alternative hypothesis: There is a correlation between temperature and the probability of an injury occuring."
   ]
  },
  {
   "cell_type": "code",
   "execution_count": 75,
   "id": "d110eb5a",
   "metadata": {},
   "outputs": [
    {
     "name": "stdout",
     "output_type": "stream",
     "text": [
      "[89, 61, 60, 62, 89, 39, 70, 74, 38, 33, 70, 74, 75, 44, 68, 70, 61, 73, 84, 63, 42, 53, 79, 68, 39, 46, 76, 88, 46, 81, 58, 55, 70, 68, 45, 70, 75, 68, 61, 89, 57, 65, 81, 79, 58, 70, 78, 48, 78, 44, 68, 55, 79, 72, 38, 89, 71, 89, 76, 88, 47, 75, 52, 79, 68, 68, 80, 67, 45, 38]\n",
      "[43, 44, 84, 82, 68, 89, 39, 97, 35, 70, 33, 70, 79, 44, 61, 42, 29, 84, 83, 88, 60, 74, 70, 72, 72, 39, 40, 63, 47, 39, 77, 84, 75, 66, 62, 62, 53, 36, 86, 90, 29, 54, 85, 53, 33, 48, 50, 88, 69, 47, 80, 59, 16, 90, 37, 29, 68, 72, 69, 90, 60, 60, 68, 64, 40, 92, 61, 65, 43, 51, 33]\n"
     ]
    }
   ],
   "source": [
    "# Get temperature of plays where injury did occur\n",
    "\n",
    "injury_temps = []\n",
    "for play in injury_plays:\n",
    "    query = \"SELECT Temp from PlayList where PlayKey = '\" + play + \"' and Temp != -999\"\n",
    "    cursor.execute(query)\n",
    "    row = cursor.fetchone()\n",
    "    if row is not None:\n",
    "        injury_temps.append(row['Temp'])\n",
    "    \n",
    "    \n",
    "print(injury_temps)\n",
    "\n",
    "# Get temperature of plays where injury did not occur\n",
    "\n",
    "non_injury_temps = []\n",
    "for play in non_injury_plays:\n",
    "    query = \"SELECT Temp from PlayList where PlayKey = '\" + play + \"' and Temp != -999\"\n",
    "    cursor.execute(query)\n",
    "    row = cursor.fetchone()\n",
    "    if row is not None:\n",
    "        non_injury_temps.append(row['Temp'])\n",
    "    \n",
    "    \n",
    "print(non_injury_temps)"
   ]
  },
  {
   "cell_type": "code",
   "execution_count": 76,
   "id": "239c359e",
   "metadata": {},
   "outputs": [
    {
     "name": "stdout",
     "output_type": "stream",
     "text": [
      "Correlation coefficient: 0.12261528157728756\n",
      "P-value: 0.14748093730417192\n"
     ]
    }
   ],
   "source": [
    "# Create a binary variable indicating if the play caused an injury or not\n",
    "injury = [1] * len(injury_temps) + [0] * len(non_injury_temps)\n",
    "\n",
    "# Perform the Pearson correlation test\n",
    "correlation, p_value = stats.pearsonr(injury, np.concatenate((injury_temps, non_injury_temps)))\n",
    "\n",
    "print(\"Correlation coefficient:\", correlation)\n",
    "print(\"P-value:\", p_value)"
   ]
  },
  {
   "cell_type": "markdown",
   "id": "c30934ad",
   "metadata": {},
   "source": [
    "### Conclusion:\n",
    "#### Because the p-value is above the significance level of 0.05, we cannot reject the null hypothesis that there is no correlation between temperature and injury occurrence."
   ]
  },
  {
   "cell_type": "code",
   "execution_count": null,
   "id": "98a937dc",
   "metadata": {},
   "outputs": [],
   "source": []
  }
 ],
 "metadata": {
  "celltoolbar": "Raw Cell Format",
  "kernelspec": {
   "display_name": "Python 3 (ipykernel)",
   "language": "python",
   "name": "python3"
  },
  "language_info": {
   "codemirror_mode": {
    "name": "ipython",
    "version": 3
   },
   "file_extension": ".py",
   "mimetype": "text/x-python",
   "name": "python",
   "nbconvert_exporter": "python",
   "pygments_lexer": "ipython3",
   "version": "3.9.12"
  }
 },
 "nbformat": 4,
 "nbformat_minor": 5
}
