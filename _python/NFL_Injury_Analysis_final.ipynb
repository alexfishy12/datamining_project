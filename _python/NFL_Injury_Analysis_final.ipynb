{
 "cells": [
  {
   "cell_type": "markdown",
   "id": "ccfe0278",
   "metadata": {},
   "source": [
    "# Analysis of NFL Team Performance on Injury"
   ]
  },
  {
   "cell_type": "code",
   "execution_count": 1,
   "id": "c8a31fc1",
   "metadata": {},
   "outputs": [],
   "source": [
    "# Import all necessary modules\n",
    "\n",
    "import pandas as pd\n",
    "import numpy as np\n",
    "import mysql.connector\n",
    "import matplotlib.pyplot as plt\n",
    "from scipy.stats import ttest_ind\n",
    "from datetime import datetime"
   ]
  },
  {
   "cell_type": "code",
   "execution_count": 2,
   "id": "fa6303fa",
   "metadata": {},
   "outputs": [],
   "source": [
    "# Initialize DB connection\n",
    "\n",
    "mydb = mysql.connector.connect(host=\"imc.kean.edu\", user=\"fisheral\", password=\"1117936\")\n",
    "cursor = mydb.cursor(dictionary = True, buffered = True)\n",
    "\n",
    "query = \"use 2023S_patpanka;\"\n",
    "cursor.execute(query)"
   ]
  },
  {
   "cell_type": "code",
   "execution_count": 3,
   "id": "d961278a",
   "metadata": {},
   "outputs": [
    {
     "name": "stdout",
     "output_type": "stream",
     "text": [
      "['47334-8-1', '44542-13-20', '44434-10-31', '31070-3-7', '35611-7-42', '43540-3-14', '43826-7-12', '44489-11-32', '38876-29-14', '47235-7-55', '43532-5-69', '46394-18-3', '43672-8-9', '39656-2-38', '38364-5-23', '47813-8-19', '38192-8-8', '45950-8-18', '46014-10-22', '44511-5-41', '44482-20-21', '36557-1-70', '42418-19-15', '44860-5-52', '42637-3-6', '41145-2-60', '40474-1-8', '33337-8-15', '44421-12-41', '47287-4-16', '41209-9-9', '36621-13-58', '44900-7-10', '39850-9-2', '42398-15-33', '45983-18-21', '36607-16-19', '47382-3-34', '42600-3-1', '42348-23-53', '46098-17-27', '45962-8-40', '43518-6-25', '42406-6-13', '43540-7-2', '44440-6-18', '33474-19-7', '39678-2-1', '43505-2-49', '44806-7-61', '39956-2-14', '47307-10-18', '45966-4-27', '34347-5-9', '47220-4-16', '46119-3-16', '38228-1-4', '46316-5-4', '35570-15-35', '46646-3-30', '47307-10-18', '44492-3-23', '46430-8-6', '46331-4-44', '46074-7-26', '36559-12-65', '46587-2-13', '41094-1-55', '45187-9-4', '44449-6-13', '42456-20-76', '42448-14-3', '41943-1-12', '46038-30-58', '44449-28-35', '41113-15-63', '39873-4-32']\n"
     ]
    }
   ],
   "source": [
    "# Get all playkeys for plays where injuries occurred\n",
    "\n",
    "injury_plays = []\n",
    "query = \"SELECT PlayKey from InjuryRecord where PlayKey order by rand()\"\n",
    "cursor.execute(query)\n",
    "row = cursor.fetchone()\n",
    "while row is not None:\n",
    "    injury_plays.append(row['PlayKey'])\n",
    "    row = cursor.fetchone()\n",
    "\n",
    "print(injury_plays)"
   ]
  },
  {
   "cell_type": "code",
   "execution_count": 4,
   "id": "e5260cc2",
   "metadata": {},
   "outputs": [
    {
     "name": "stdout",
     "output_type": "stream",
     "text": [
      "['45987-15-6', '36572-10-28', '43656-9-52', '39794-23-62', '43540-9-19', '44067-18-35', '42472-11-12', '44433-4-13', '44614-12-34', '42470-3-45', '39748-22-23', '46394-7-10', '40335-23-24', '33337-1-15', '41113-17-28', '38252-18-66', '30953-4-44', '42413-19-1', '44629-21-27', '41113-5-59', '39680-21-68', '36803-13-64', '41209-10-65', '45927-8-24', '44434-13-51', '26624-29-25', '44799-11-17', '44485-14-38', '36656-14-31', '39664-20-13', '44548-20-35', '44569-26-14', '44463-18-22', '38281-15-7', '36803-11-51', '39794-27-63', '41113-13-88', '47376-2-11', '44037-20-49', '44203-7-22', '46119-12-12', '36630-3-53', '36877-28-26', '39794-22-49', '44418-15-48', '41152-20-21', '44542-9-5', '38252-1-42', '41113-11-46', '44647-9-1', '38274-14-36', '34230-5-26', '42780-20-17', '45950-7-62', '43490-29-33', '41664-21-6', '39771-29-12', '47195-16-32', '43656-11-7', '44517-2-39', '44806-16-16', '43540-5-4', '44451-25-31', '42472-8-17', '45974-23-29', '30068-10-12', '41084-3-22', '42456-7-8', '45077-22-47', '43490-25-16', '42352-12-51', '43229-25-9', '35617-2-19', '38253-19-8', '35570-17-10', '44434-12-48', '33337-5-64', '43483-18-9', '41084-22-20', '44459-1-11', '39664-31-6', '33474-22-14', '42359-1-1', '44433-25-67', '39960-12-62', '42370-23-54', '40335-11-7', '44546-13-70', '47287-13-6', '39017-12-21', '43478-17-40', '39786-30-29', '42352-1-36', '44454-11-15', '44511-11-2', '43550-12-17', '46430-1-5', '37188-14-14', '44546-27-53', '44860-13-41', '40070-3-72', '42470-21-20', '42588-5-9', '44067-18-12', '42472-24-12']\n"
     ]
    }
   ],
   "source": [
    "# Get as many playkeys for sample plays where injuries did not occur as there are samples for injury plays\n",
    "\n",
    "non_injury_plays = []\n",
    "query = \"SELECT PlayKey from Non_Injured_Samples2\"\n",
    "cursor.execute(query)\n",
    "row = cursor.fetchone()\n",
    "while row is not None:\n",
    "    non_injury_plays.append(row['PlayKey'])\n",
    "    row = cursor.fetchone()\n",
    "\n",
    "print(non_injury_plays)"
   ]
  },
  {
   "cell_type": "markdown",
   "id": "98c5cf5c",
   "metadata": {},
   "source": [
    "## Max Speed\n",
    "##### Null hypothesis: There is no correlation between max speed of player and injury occurrence\n",
    "##### Alternative hypothesis: There is a positive correlation between having a higher max speed and the probability of injury occurrence"
   ]
  },
  {
   "cell_type": "code",
   "execution_count": 5,
   "id": "d039829e",
   "metadata": {},
   "outputs": [
    {
     "name": "stdout",
     "output_type": "stream",
     "text": [
      "[10.11, 7.37, 5.62, 7.26, 3.21, 2.73, 3.73, 6.96, 7.85, 8.17, 4.73, 9.56, 2.38, 6.38, 7.75, 9.12, 7.28, 5.03, 9.97, 6.39, 2.96, 5.75, 4.72, 2.9, 8.4, 2.13, 9.05, 6.35, 7.57, 5.45, 5.15, 3.15, 8.68, 8.27, 10.43, 4.25, 6.38, 3.17, 9.55, 5.99, 7.59, 4.99, 5.31, 2.38, 4.25, 6.59, 7.46, 1.17, 3.12, 2.39, 6.7, 8.33, 6.82, 9.48, 6.93, 9.35, 9.2, 2.33, 3.38, 7.23, 8.33, 4.34, 7.26, 5.84, 7.26, 5.81, 9.42, 6.25, 5.81, 5.83, 3.22, 6.95, 3.74, 8.04, 7.34, 2.38, 8.98]\n",
      "Length: 77\n"
     ]
    }
   ],
   "source": [
    "# Get max_speed of plays where injury occurred\n",
    "\n",
    "injury_max_speeds = []\n",
    "for play in injury_plays:\n",
    "    query = \"SELECT injury_play_max_speed as max_speed from InjuredPlayerData2 where PlayKey = '\" + play + \"'\"\n",
    "    cursor.execute(query)\n",
    "    injury_max_speeds.append(cursor.fetchone()['max_speed'])\n",
    "    \n",
    "print(injury_max_speeds)\n",
    "print(\"Length:\", len(injury_max_speeds))"
   ]
  },
  {
   "cell_type": "code",
   "execution_count": 6,
   "id": "822ce03a",
   "metadata": {},
   "outputs": [
    {
     "name": "stdout",
     "output_type": "stream",
     "text": [
      "[6.82, 6.48, 6.91, 3.86, 5.3, 4.33, 5.11, 2.47, 9.55, 4.57, 7.57, 5.5, 8.27, 5.96, 4.38, 7.89, 4.74, 7.23, 4.48, 5.41, 4.57, 5.05, 5.93, 3.85, 1.96, 1.57, 4.93, 6.45, 8.19, 3.17, 6.37, 8.25, 4.1, 5.77, 7.68, 3.94, 2.93, 7.72, 4.76, 9.1, 5.44, 8.24, 2.43, 2.67, 3.1, 4.67, 6.29, 6.53, 1.94, 7.33, 4.15, 3.73, 2.14, 2.24, 2.19, 1.56, 3.78, 3.57, 5.35, 4.8, 2.75, 7.03, 4.82, 3.41, 5.18, 3.81, 6.53, 4.04, 6.23, 4.1, 1.41, 6.59, 5.42, 5.3, 3.88, 3.03, 1.94]\n",
      "Length: 77\n"
     ]
    }
   ],
   "source": [
    "# Get max_speed of plays where injury did not occur\n",
    "\n",
    "non_injury_max_speeds = []\n",
    "for play in non_injury_plays[:len(injury_plays)]:\n",
    "    query = \"SELECT max(s) as max_speed from Non_Injured_Player_Track_Data2 where PlayKey = '\" + play + \"'\"\n",
    "    cursor.execute(query)\n",
    "    non_injury_max_speeds.append(cursor.fetchone()['max_speed'])\n",
    "    \n",
    "\n",
    "print(non_injury_max_speeds)\n",
    "print(\"Length:\", len(non_injury_max_speeds))"
   ]
  },
  {
   "cell_type": "code",
   "execution_count": 7,
   "id": "ca236e25",
   "metadata": {},
   "outputs": [
    {
     "name": "stdout",
     "output_type": "stream",
     "text": [
      "Mean max_speed of plays with injuries: 6.151948051948052\n",
      "Mean max_speed of plays without injuries: 4.944675324675324\n"
     ]
    }
   ],
   "source": [
    "injury_max_speeds = np.array(injury_max_speeds)\n",
    "non_injury_max_speeds = np.array(non_injury_max_speeds)\n",
    "\n",
    "mean_injury_max_speed = np.mean(injury_max_speeds)\n",
    "mean_non_injury_max_speed = np.mean(non_injury_max_speeds)\n",
    "\n",
    "print(\"Mean max_speed of plays with injuries:\", mean_injury_max_speed)\n",
    "print(\"Mean max_speed of plays without injuries:\", mean_non_injury_max_speed)"
   ]
  },
  {
   "cell_type": "code",
   "execution_count": 8,
   "id": "f7262587",
   "metadata": {},
   "outputs": [],
   "source": [
    "# Calculate variance function\n",
    "def variance(data):\n",
    "    # Number of observations\n",
    "    n = len(data)\n",
    "    # Mean of the data\n",
    "    mean = sum(data) / n\n",
    "    # Square deviations\n",
    "    deviations = [(x - mean) ** 2 for x in data]\n",
    "    # Variance\n",
    "    variance = sum(deviations) / n\n",
    "    return variance\n"
   ]
  },
  {
   "cell_type": "code",
   "execution_count": 9,
   "id": "4c3d7d0a",
   "metadata": {},
   "outputs": [
    {
     "name": "stdout",
     "output_type": "stream",
     "text": [
      "Injury Max Speeds Variance: 5.49952477652218\n",
      "Non-Injury Max Speeds Variance: 3.8468924270534655\n"
     ]
    }
   ],
   "source": [
    "# Calculate variance of both datasets\n",
    "\n",
    "print(\"Injury Max Speeds Variance:\", variance(injury_max_speeds))\n",
    "print(\"Non-Injury Max Speeds Variance:\", variance(non_injury_max_speeds))"
   ]
  },
  {
   "cell_type": "code",
   "execution_count": 10,
   "id": "4725f18c",
   "metadata": {},
   "outputs": [
    {
     "name": "stdout",
     "output_type": "stream",
     "text": [
      "Correlation coefficient: 0.2689454372691529\n",
      "p-value: 0.0007443655068907504\n"
     ]
    }
   ],
   "source": [
    "import scipy.stats as stats\n",
    "\n",
    "# Create a binary variable indicating if the play caused an injury or not\n",
    "injury = [1] * len(injury_max_speeds) + [0] * len(non_injury_max_speeds)\n",
    "\n",
    "# Perform the Pearson correlation test\n",
    "correlation, p_value = stats.pearsonr(injury, np.concatenate((injury_max_speeds, non_injury_max_speeds)))\n",
    "\n",
    "print(\"Correlation coefficient:\", correlation)\n",
    "print(\"p-value:\", p_value)\n"
   ]
  },
  {
   "cell_type": "markdown",
   "id": "101b9c3c",
   "metadata": {},
   "source": [
    "### Conclusion:\n",
    "#### Because the p-value is below the significance value of 0.05, we can accept the alternative hypothesis that there is a correlation between a player's max speed during a play and the probability of an injury occuring."
   ]
  },
  {
   "cell_type": "code",
   "execution_count": 11,
   "id": "1fd76043",
   "metadata": {},
   "outputs": [
    {
     "data": {
      "image/png": "[encoded data removed]",
      "text/plain": [
       "<Figure size 640x480 with 1 Axes>"
      ]
     },
     "metadata": {},
     "output_type": "display_data"
    }
   ],
   "source": [
    "# Plot max speed comparison\n",
    "\n",
    "x = injury_max_speeds\n",
    "y = non_injury_max_speeds\n",
    "\n",
    "plt.hist(x, alpha=0.5, bins=range(0, 13), label='Injury-causing plays')\n",
    "plt.hist(y, alpha=0.5, bins=range(0, 13), label='Non-injury-causing plays')\n",
    "plt.legend(loc='upper right')\n",
    "plt.xlabel(\"Player's max speed during a play (yards per second)\")\n",
    "plt.ylabel(\"Frequency\")\n",
    "plt.title(\"Comparison of max speed of player during injury and non-injury causing plays\")\n",
    "plt.show()"
   ]
  },
  {
   "cell_type": "markdown",
   "id": "79c085c6",
   "metadata": {},
   "source": [
    "## Field types\n",
    "##### Null hypothesis: There is no correlation between field type and the probability of an injury occuring.\n",
    "##### Alternative hypothesis: There is a correlation between field type and the probability of an injury occuring."
   ]
  },
  {
   "cell_type": "code",
   "execution_count": 12,
   "id": "042dc956",
   "metadata": {},
   "outputs": [
    {
     "name": "stdout",
     "output_type": "stream",
     "text": [
      "['Synthetic', 'Natural', 'Synthetic', 'Natural', 'Synthetic', 'Natural', 'Synthetic', 'Natural', 'Synthetic', 'Synthetic', 'Synthetic', 'Natural', 'Natural', 'Natural', 'Natural', 'Synthetic', 'Synthetic', 'Synthetic', 'Natural', 'Synthetic', 'Synthetic', 'Synthetic', 'Natural', 'Synthetic', 'Synthetic', 'Synthetic', 'Synthetic', 'Natural', 'Natural', 'Synthetic', 'Natural', 'Natural', 'Synthetic', 'Natural', 'Natural', 'Natural', 'Synthetic', 'Natural', 'Synthetic', 'Natural', 'Natural', 'Natural', 'Synthetic', 'Synthetic', 'Natural', 'Natural', 'Natural', 'Natural', 'Natural', 'Synthetic', 'Synthetic', 'Synthetic', 'Synthetic', 'Synthetic', 'Natural', 'Natural', 'Natural', 'Synthetic', 'Synthetic', 'Natural', 'Natural', 'Synthetic', 'Synthetic', 'Synthetic', 'Synthetic', 'Natural', 'Natural', 'Synthetic', 'Synthetic', 'Natural', 'Synthetic', 'Synthetic', 'Natural', 'Synthetic', 'Synthetic', 'Natural', 'Synthetic', 'Synthetic', 'Natural', 'Synthetic', 'Synthetic', 'Natural', 'Natural', 'Natural', 'Natural', 'Natural', 'Synthetic', 'Synthetic', 'Synthetic', 'Natural', 'Synthetic', 'Synthetic', 'Natural', 'Synthetic', 'Synthetic', 'Natural', 'Synthetic', 'Natural', 'Synthetic', 'Synthetic', 'Synthetic', 'Synthetic', 'Natural', 'Natural', 'Synthetic']\n",
      "['Natural', 'Synthetic', 'Synthetic', 'Synthetic', 'Natural', 'Synthetic', 'Synthetic', 'Synthetic', 'Natural', 'Synthetic', 'Synthetic', 'Synthetic', 'Natural', 'Synthetic', 'Natural', 'Synthetic', 'Synthetic', 'Synthetic', 'Natural', 'Synthetic', 'Synthetic', 'Synthetic', 'Synthetic', 'Synthetic', 'Synthetic', 'Synthetic', 'Natural', 'Natural', 'Synthetic', 'Natural', 'Synthetic', 'Natural', 'Natural', 'Synthetic', 'Synthetic', 'Natural', 'Synthetic', 'Natural', 'Natural', 'Natural', 'Natural', 'Synthetic', 'Natural', 'Natural', 'Natural', 'Natural', 'Natural', 'Natural', 'Natural', 'Natural', 'Natural', 'Natural', 'Natural', 'Natural', 'Natural', 'Natural', 'Synthetic', 'Synthetic', 'Natural', 'Synthetic', 'Synthetic', 'Natural', 'Synthetic', 'Natural', 'Synthetic', 'Natural', 'Natural', 'Natural', 'Synthetic', 'Synthetic', 'Natural', 'Natural', 'Synthetic', 'Synthetic', 'Natural', 'Natural', 'Synthetic', 'Natural', 'Synthetic', 'Synthetic', 'Synthetic', 'Natural', 'Natural', 'Natural', 'Natural', 'Synthetic', 'Natural', 'Natural', 'Natural', 'Natural', 'Natural', 'Natural', 'Natural', 'Natural', 'Natural', 'Synthetic', 'Natural', 'Natural', 'Natural', 'Natural', 'Natural', 'Natural', 'Natural', 'Natural', 'Synthetic', 'Synthetic', 'Natural', 'Synthetic', 'Natural', 'Natural', 'Synthetic', 'Synthetic', 'Synthetic', 'Natural', 'Natural', 'Synthetic', 'Natural', 'Synthetic', 'Synthetic', 'Natural', 'Natural', 'Natural', 'Natural', 'Synthetic', 'Natural', 'Natural', 'Natural', 'Synthetic', 'Natural', 'Natural', 'Natural', 'Synthetic', 'Synthetic', 'Natural', 'Natural', 'Natural', 'Synthetic', 'Natural', 'Natural', 'Natural', 'Synthetic', 'Natural', 'Natural', 'Natural', 'Natural', 'Natural', 'Natural', 'Natural', 'Synthetic', 'Synthetic', 'Synthetic', 'Natural', 'Natural', 'Synthetic', 'Natural', 'Natural', 'Synthetic', 'Natural', 'Synthetic', 'Natural', 'Natural', 'Synthetic', 'Natural', 'Natural', 'Synthetic', 'Natural', 'Natural', 'Synthetic', 'Synthetic', 'Natural', 'Natural', 'Synthetic', 'Natural', 'Natural', 'Synthetic', 'Synthetic', 'Natural', 'Natural', 'Natural', 'Natural', 'Natural', 'Natural', 'Synthetic', 'Natural', 'Natural', 'Synthetic', 'Natural', 'Natural', 'Synthetic', 'Synthetic', 'Natural', 'Synthetic', 'Natural', 'Natural', 'Natural', 'Synthetic', 'Synthetic', 'Synthetic', 'Natural', 'Synthetic', 'Natural', 'Synthetic', 'Natural', 'Natural', 'Synthetic', 'Synthetic', 'Synthetic', 'Synthetic', 'Synthetic', 'Natural', 'Natural', 'Natural', 'Natural', 'Natural', 'Natural', 'Natural', 'Synthetic', 'Synthetic', 'Natural', 'Natural', 'Natural', 'Synthetic', 'Natural', 'Natural', 'Synthetic', 'Natural', 'Synthetic', 'Synthetic', 'Synthetic', 'Synthetic', 'Natural', 'Natural', 'Natural', 'Synthetic', 'Natural', 'Synthetic', 'Synthetic', 'Synthetic', 'Natural', 'Natural', 'Synthetic', 'Natural', 'Synthetic', 'Synthetic', 'Natural', 'Synthetic', 'Natural', 'Synthetic', 'Natural', 'Natural', 'Synthetic', 'Natural', 'Synthetic', 'Natural', 'Synthetic', 'Natural', 'Natural', 'Natural', 'Natural', 'Synthetic', 'Natural', 'Synthetic', 'Natural', 'Synthetic', 'Synthetic', 'Synthetic', 'Synthetic', 'Natural', 'Synthetic', 'Synthetic', 'Synthetic', 'Natural', 'Natural', 'Natural', 'Natural', 'Natural', 'Natural', 'Natural', 'Synthetic', 'Natural', 'Synthetic', 'Synthetic', 'Synthetic', 'Synthetic', 'Synthetic', 'Natural', 'Natural', 'Natural', 'Natural', 'Synthetic', 'Natural', 'Natural', 'Synthetic', 'Natural', 'Synthetic', 'Natural', 'Natural', 'Synthetic', 'Natural', 'Natural', 'Synthetic', 'Synthetic', 'Natural', 'Natural', 'Synthetic', 'Natural', 'Natural', 'Synthetic', 'Natural', 'Natural', 'Natural', 'Natural', 'Synthetic', 'Synthetic', 'Natural', 'Natural', 'Natural', 'Natural', 'Synthetic', 'Synthetic', 'Natural', 'Synthetic', 'Natural', 'Synthetic', 'Synthetic', 'Synthetic', 'Natural', 'Natural', 'Natural', 'Natural', 'Synthetic', 'Natural', 'Natural', 'Natural', 'Natural', 'Natural', 'Synthetic', 'Natural', 'Natural', 'Synthetic', 'Natural', 'Synthetic', 'Natural', 'Synthetic', 'Natural', 'Natural', 'Synthetic', 'Natural', 'Natural', 'Natural', 'Synthetic', 'Synthetic', 'Synthetic', 'Synthetic', 'Natural', 'Synthetic', 'Synthetic', 'Natural', 'Synthetic', 'Natural', 'Synthetic', 'Natural', 'Synthetic', 'Natural', 'Natural', 'Natural', 'Synthetic', 'Synthetic', 'Natural', 'Natural', 'Synthetic', 'Natural', 'Synthetic', 'Natural', 'Natural', 'Synthetic', 'Synthetic', 'Natural', 'Natural', 'Synthetic', 'Synthetic', 'Synthetic', 'Synthetic', 'Natural', 'Synthetic', 'Synthetic', 'Synthetic', 'Natural', 'Natural', 'Natural', 'Natural', 'Synthetic', 'Natural', 'Natural', 'Natural', 'Natural', 'Synthetic', 'Synthetic', 'Synthetic', 'Synthetic', 'Synthetic', 'Synthetic', 'Synthetic', 'Synthetic', 'Natural', 'Natural', 'Synthetic', 'Synthetic', 'Natural', 'Natural', 'Synthetic', 'Natural', 'Synthetic', 'Natural', 'Natural', 'Synthetic', 'Synthetic', 'Natural', 'Natural', 'Natural', 'Natural', 'Synthetic', 'Natural', 'Synthetic', 'Synthetic', 'Synthetic', 'Synthetic', 'Natural', 'Natural', 'Natural', 'Natural', 'Synthetic', 'Synthetic', 'Natural', 'Natural', 'Synthetic', 'Natural', 'Synthetic', 'Synthetic', 'Synthetic', 'Synthetic', 'Synthetic', 'Natural', 'Synthetic', 'Natural', 'Natural', 'Natural', 'Synthetic', 'Synthetic', 'Natural', 'Synthetic', 'Natural', 'Natural', 'Natural', 'Synthetic', 'Synthetic', 'Natural', 'Natural', 'Natural', 'Natural', 'Natural', 'Natural', 'Synthetic', 'Natural', 'Synthetic', 'Natural', 'Synthetic', 'Synthetic', 'Synthetic', 'Synthetic', 'Natural', 'Natural', 'Natural', 'Natural', 'Synthetic', 'Natural', 'Synthetic', 'Natural', 'Synthetic', 'Natural', 'Synthetic', 'Synthetic', 'Natural', 'Natural', 'Synthetic', 'Natural', 'Synthetic', 'Synthetic', 'Synthetic', 'Natural', 'Natural', 'Natural', 'Natural', 'Synthetic', 'Synthetic', 'Natural', 'Synthetic', 'Natural', 'Natural', 'Natural']\n"
     ]
    }
   ],
   "source": [
    "# Data gathering\n",
    "\n",
    "\n",
    "injury_field_types = []\n",
    "query = \"select Surface from InjuryRecord\"\n",
    "cursor.execute(query)\n",
    "row = cursor.fetchone()\n",
    "while row is not None:\n",
    "    field_type = row['Surface']\n",
    "    injury_field_types.append(field_type)\n",
    "    row = cursor.fetchone()\n",
    "\n",
    "print(injury_field_types)\n",
    "\n",
    "population_field_types = []\n",
    "query = \"select FieldType from PlayList order by rand() limit 5000\"\n",
    "cursor.execute(query)\n",
    "row = cursor.fetchone()\n",
    "while row is not None:\n",
    "    field_type = row['FieldType']\n",
    "    population_field_types.append(field_type)\n",
    "    row = cursor.fetchone()\n",
    "\n",
    "print(population_field_types[:500])"
   ]
  },
  {
   "cell_type": "code",
   "execution_count": 25,
   "id": "e13a318f",
   "metadata": {},
   "outputs": [
    {
     "name": "stdout",
     "output_type": "stream",
     "text": [
      "Population ratios\n",
      "col_0       count\n",
      "0                \n",
      "Natural    1469.0\n",
      "Synthetic  1031.0\n",
      "\n",
      "Expected:\n",
      "col_0       count\n",
      "0                \n",
      "Natural    2938.0\n",
      "Synthetic  2062.0\n",
      "col_0\n",
      "count    4792.359862\n",
      "dtype: float64\n"
     ]
    }
   ],
   "source": [
    "observed = injury_table\n",
    "\n",
    "# get population ratios\n",
    "population_ratios = population_table/len(population_table) \n",
    "print(\"Population ratios\")\n",
    "print(population_ratios)\n",
    "\n",
    "expected = population_ratios * len(injury_table)\n",
    "print(\"\\nExpected:\")\n",
    "print(expected)\n",
    "\n",
    "chi_squared_stat = (((observed-expected)**2)/expected).sum()\n",
    "print(chi_squared_stat)"
   ]
  },
  {
   "cell_type": "code",
   "execution_count": 52,
   "id": "485b12e0",
   "metadata": {},
   "outputs": [
    {
     "name": "stdout",
     "output_type": "stream",
     "text": [
      "Population table\n",
      "col_0       count\n",
      "0                \n",
      "Natural    0.5876\n",
      "Synthetic  0.4124\n",
      "col_0       count\n",
      "0                \n",
      "Natural    61.698\n",
      "Synthetic  43.302\n",
      "col_0      count\n",
      "0               \n",
      "Natural       48\n",
      "Synthetic     57\n",
      "\n",
      " col_0\n",
      "count    7.374364\n",
      "dtype: float64\n"
     ]
    }
   ],
   "source": [
    "# Print ratios for population and injury sample\n",
    "\n",
    "population_field_types = pd.DataFrame(population_field_types)\n",
    "injury_field_types = pd.DataFrame(injury_field_types)\n",
    "\n",
    "population_table = pd.crosstab(index=population_field_types[0], columns=\"count\")\n",
    "injury_table = pd.crosstab(index=injury_field_types[0], columns=\"count\")\n",
    "\n",
    "population_field_types_ratio = population_table / len(population_field_types)\n",
    "\n",
    "print(\"Population table\")\n",
    "print(population_field_types_ratio)\n",
    "\n",
    "\n",
    "observed = injury_table\n",
    "expected = population_field_types_ratio * len(injury_field_types)\n",
    "\n",
    "\n",
    "chi_squared_stat = (((observed-expected)**2)/expected).sum()\n",
    "print(\"\\n\", chi_squared_stat)"
   ]
  },
  {
   "cell_type": "code",
   "execution_count": 44,
   "id": "faef8eec",
   "metadata": {},
   "outputs": [
    {
     "name": "stdout",
     "output_type": "stream",
     "text": [
      "Critical value\n",
      "3.841458820694124\n",
      "P value\n",
      "[0.00661602]\n"
     ]
    }
   ],
   "source": [
    "crit = stats.chi2.ppf(q = 0.95, # Find the critical value for 95% confidence\n",
    "                     df = 1) # DF = number of variable categories - 1\n",
    "\n",
    "print(\"Critical value\")\n",
    "print(crit)\n",
    "\n",
    "p_value = 1 - stats.chi2.cdf(x = chi_squared_stat, df = 1)\n",
    "\n",
    "print(\"P value\")\n",
    "print(p_value)"
   ]
  },
  {
   "cell_type": "code",
   "execution_count": 77,
   "id": "e19aa4de",
   "metadata": {},
   "outputs": [
    {
     "data": {
      "image/png": "[encoded data removed]",
      "text/plain": [
       "<Figure size 640x480 with 1 Axes>"
      ]
     },
     "metadata": {},
     "output_type": "display_data"
    }
   ],
   "source": [
    "import numpy as np \n",
    "import matplotlib.pyplot as plt \n",
    "  \n",
    "X = ['Natural', 'Synthetic']\n",
    "  \n",
    "X_axis = np.arange(len(X))\n",
    "  \n",
    "plt.bar(X_axis - 0.2, expected.values.ravel().astype(int), 0.4, label = 'Expected value')\n",
    "plt.bar(X_axis + 0.2, observed.values.ravel().astype(int), 0.4, label = 'Observed value')\n",
    "  \n",
    "plt.xticks(X_axis, X)\n",
    "plt.xlabel(\"Field Type\")\n",
    "plt.ylabel(\"Number of plays that caused injuries\")\n",
    "plt.title(\"Comparison of injuries on natural or synthetic fields\")\n",
    "plt.legend()\n",
    "plt.show()"
   ]
  },
  {
   "cell_type": "code",
   "execution_count": 72,
   "id": "b2c26373",
   "metadata": {},
   "outputs": [
    {
     "name": "stdout",
     "output_type": "stream",
     "text": [
      "[61.698 43.302]\n"
     ]
    }
   ],
   "source": [
    "print(expected.values[:].ravel())"
   ]
  },
  {
   "cell_type": "code",
   "execution_count": 15,
   "id": "fdd41da4",
   "metadata": {},
   "outputs": [
    {
     "name": "stdout",
     "output_type": "stream",
     "text": [
      "09:04:04\n"
     ]
    }
   ],
   "source": [
    "time = datetime.now().strftime(\"%H:%M:%S\")\n",
    "print(time)"
   ]
  },
  {
   "cell_type": "code",
   "execution_count": 42,
   "id": "e56012ae",
   "metadata": {},
   "outputs": [
    {
     "ename": "NameError",
     "evalue": "name 'non_injury_field_types' is not defined",
     "output_type": "error",
     "traceback": [
      "\u001b[1;31m---------------------------------------------------------------------------\u001b[0m",
      "\u001b[1;31mNameError\u001b[0m                                 Traceback (most recent call last)",
      "Input \u001b[1;32mIn [42]\u001b[0m, in \u001b[0;36m<cell line: 2>\u001b[1;34m()\u001b[0m\n\u001b[0;32m      1\u001b[0m \u001b[38;5;66;03m# Create a binary variable indicating if the play caused an injury or not\u001b[39;00m\n\u001b[1;32m----> 2\u001b[0m injury \u001b[38;5;241m=\u001b[39m [\u001b[38;5;241m1\u001b[39m] \u001b[38;5;241m*\u001b[39m \u001b[38;5;28mlen\u001b[39m(injury_field_types) \u001b[38;5;241m+\u001b[39m [\u001b[38;5;241m0\u001b[39m] \u001b[38;5;241m*\u001b[39m \u001b[38;5;28mlen\u001b[39m(\u001b[43mnon_injury_field_types\u001b[49m)\n\u001b[0;32m      4\u001b[0m \u001b[38;5;66;03m# Perform the Pearson correlation test\u001b[39;00m\n\u001b[0;32m      5\u001b[0m correlation, p_value \u001b[38;5;241m=\u001b[39m stats\u001b[38;5;241m.\u001b[39mpearsonr(injury, np\u001b[38;5;241m.\u001b[39mconcatenate((injury_field_types, non_injury_field_types)))\n",
      "\u001b[1;31mNameError\u001b[0m: name 'non_injury_field_types' is not defined"
     ]
    }
   ],
   "source": [
    "# Create a binary variable indicating if the play caused an injury or not\n",
    "injury = [1] * len(injury_field_types) + [0] * len(non_injury_field_types)\n",
    "\n",
    "# Perform the Pearson correlation test\n",
    "correlation, p_value = stats.pearsonr(injury, np.concatenate((injury_field_types, non_injury_field_types)))\n",
    "\n",
    "print(\"Correlation coefficient:\", correlation)\n",
    "print(\"P-value:\", p_value)"
   ]
  },
  {
   "cell_type": "markdown",
   "id": "300b2fb2",
   "metadata": {},
   "source": [
    "### Conclusion:\n",
    "#### Because the p-value is above the significance value of 0.05, we cannot reject the null hypothesis that there is no correlation between the football field being natural or synthetic and the probability of injury occurrence."
   ]
  },
  {
   "cell_type": "markdown",
   "id": "fb8a79d9",
   "metadata": {},
   "source": [
    "## Temperature\n",
    "##### Null hypothesis: There is no correlation between temperature and the probability of an injury occuring.\n",
    "##### Alternative hypothesis: There is a correlation between temperature and the probability of an injury occuring."
   ]
  },
  {
   "cell_type": "code",
   "execution_count": null,
   "id": "962a9fc5",
   "metadata": {},
   "outputs": [],
   "source": [
    "# Get temperature of plays where injury did occur\n",
    "\n",
    "injury_temps = []\n",
    "for play in injury_plays:\n",
    "    query = \"SELECT Temp from PlayList where PlayKey = '\" + play + \"' and Temp != -999\"\n",
    "    cursor.execute(query)\n",
    "    row = cursor.fetchone()\n",
    "    if row is not None:\n",
    "        injury_temps.append(row['Temp'])\n",
    "    \n",
    "    \n",
    "print(injury_temps)\n",
    "\n",
    "# Get temperature of plays where injury did not occur\n",
    "\n",
    "non_injury_temps = []\n",
    "for play in non_injury_plays[:len(injury_plays)]:\n",
    "    query = \"SELECT Temp from PlayList where PlayKey = '\" + play + \"' and Temp != -999\"\n",
    "    cursor.execute(query)\n",
    "    row = cursor.fetchone()\n",
    "    if row is not None:\n",
    "        non_injury_temps.append(row['Temp'])\n",
    "    \n",
    "    \n",
    "print(non_injury_temps)"
   ]
  },
  {
   "cell_type": "code",
   "execution_count": null,
   "id": "0e5dc578",
   "metadata": {},
   "outputs": [],
   "source": [
    "# Create a binary variable indicating if the play caused an injury or not\n",
    "injury = [1] * len(injury_temps) + [0] * len(non_injury_temps)\n",
    "\n",
    "# Perform the Pearson correlation test\n",
    "correlation, p_value = stats.pearsonr(injury, np.concatenate((injury_temps, non_injury_temps)))\n",
    "\n",
    "print(\"Correlation coefficient:\", correlation)\n",
    "print(\"P-value:\", p_value)"
   ]
  },
  {
   "cell_type": "markdown",
   "id": "ea151104",
   "metadata": {},
   "source": [
    "### Conclusion:\n",
    "#### Because the p-value is above the significance level of 0.05, we cannot reject the null hypothesis that there is no correlation between temperature and injury occurrence."
   ]
  },
  {
   "cell_type": "code",
   "execution_count": null,
   "id": "a0c577e4",
   "metadata": {},
   "outputs": [],
   "source": []
  }
 ],
 "metadata": {
  "celltoolbar": "Raw Cell Format",
  "kernelspec": {
   "display_name": "Python 3 (ipykernel)",
   "language": "python",
   "name": "python3"
  },
  "language_info": {
   "codemirror_mode": {
    "name": "ipython",
    "version": 3
   },
   "file_extension": ".py",
   "mimetype": "text/x-python",
   "name": "python",
   "nbconvert_exporter": "python",
   "pygments_lexer": "ipython3",
   "version": "3.9.12"
  }
 },
 "nbformat": 4,
 "nbformat_minor": 5
}
